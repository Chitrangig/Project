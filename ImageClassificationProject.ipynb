{
  "nbformat": 4,
  "nbformat_minor": 0,
  "metadata": {
    "colab": {
      "name": "ImageClassificationProject.ipynb",
      "provenance": [],
      "collapsed_sections": [],
      "authorship_tag": "ABX9TyMJyL71cgAvsa6uZhtiNZmj",
      "include_colab_link": true
    },
    "kernelspec": {
      "name": "python3",
      "display_name": "Python 3"
    },
    "language_info": {
      "name": "python"
    }
  },
  "cells": [
    {
      "cell_type": "markdown",
      "metadata": {
        "id": "view-in-github",
        "colab_type": "text"
      },
      "source": [
        "<a href=\"https://colab.research.google.com/github/Chitrangig/Project/blob/main/ImageClassificationProject.ipynb\" target=\"_parent\"><img src=\"https://colab.research.google.com/assets/colab-badge.svg\" alt=\"Open In Colab\"/></a>"
      ]
    },
    {
      "cell_type": "code",
      "metadata": {
        "id": "AKCGb0D90513",
        "colab": {
          "base_uri": "https://localhost:8080/"
        },
        "outputId": "cdbb806f-7f58-4402-f449-73f67d42dfa8"
      },
      "source": [
        "# Image Classification on Dolphin, Zebra and Birds\n",
        "# Data Gathering-->\n",
        "\n",
        "!pip install bing-image-downloader"
      ],
      "execution_count": 1,
      "outputs": [
        {
          "output_type": "stream",
          "text": [
            "Requirement already satisfied: bing-image-downloader in /usr/local/lib/python3.7/dist-packages (1.1.1)\n"
          ],
          "name": "stdout"
        }
      ]
    },
    {
      "cell_type": "code",
      "metadata": {
        "id": "uFXcC6SQFKJY"
      },
      "source": [
        "!mkdir images"
      ],
      "execution_count": null,
      "outputs": []
    },
    {
      "cell_type": "code",
      "metadata": {
        "id": "Hzxj61NlF7r5",
        "colab": {
          "base_uri": "https://localhost:8080/"
        },
        "outputId": "97d7b533-090b-465a-cd7b-fa1d570da4d5"
      },
      "source": [
        "from bing_image_downloader import downloader\n",
        "downloader.download(\"dolphins\",limit=30,output_dir='images',adult_filter_off=True)"
      ],
      "execution_count": 3,
      "outputs": [
        {
          "output_type": "stream",
          "text": [
            "[%] Downloading Images to /content/images/dolphins\n",
            "\n",
            "\n",
            "[!!]Indexing page: 1\n",
            "\n",
            "[%] Indexed 30 Images on Page 1.\n",
            "\n",
            "===============================================\n",
            "\n",
            "[%] Downloading Image #1 from https://img1.grunge.com/img/gallery/false-facts-about-dolphins-you-always-thought-were-true/intro-1500661774.jpg\n",
            "[%] File Downloaded !\n",
            "\n",
            "[%] Downloading Image #2 from https://i.pinimg.com/originals/a7/67/3d/a7673d9e408ed199dff1290a8d3cc6b6.jpg\n",
            "[%] File Downloaded !\n",
            "\n",
            "[%] Downloading Image #3 from https://2.bp.blogspot.com/-zpgDUk2iiLw/TlJxAwop8XI/AAAAAAAAAOE/XsSgGyYrRIw/s1600/Flippeddolphinsmile.jpg\n",
            "[%] File Downloaded !\n",
            "\n",
            "[%] Downloading Image #4 from https://www.rd.com/wp-content/uploads/2019/03/hector-dolphin.jpg\n",
            "[%] File Downloaded !\n",
            "\n",
            "[%] Downloading Image #5 from http://www.storytrender.com/wp-content/uploads/2018/10/4_CATERS_DIRTY_DANCING_DOLPHINS_05-1024x683.jpg\n",
            "[%] File Downloaded !\n",
            "\n",
            "[%] Downloading Image #6 from http://4.bp.blogspot.com/-Ji10i7JwvE4/TnPA78Fw3MI/AAAAAAAAAI0/XZmMcrOPjb8/s1600/dolphin3.jpg\n",
            "[%] File Downloaded !\n",
            "\n",
            "[%] Downloading Image #7 from https://img2.grunge.com/img/gallery/false-facts-about-dolphins-you-always-thought-were-true/dolphins-smile-because-theyre-happy-animals-1500661774.jpg\n",
            "[%] File Downloaded !\n",
            "\n",
            "[%] Downloading Image #8 from https://assets.rbl.ms/6477504/980x.jpg\n",
            "[%] File Downloaded !\n",
            "\n",
            "[%] Downloading Image #9 from https://stunningfun.com/uploads/posts/2016-06/1466886753_361920_1280x720.jpg\n",
            "[%] File Downloaded !\n",
            "\n",
            "[%] Downloading Image #10 from https://1.bp.blogspot.com/-rQkvR0FkPbk/TVgPUUpyDKI/AAAAAAAAAqw/pDoq6sPfI1U/s1600/Jumping_Bottlenose_Dolphins.jpg\n",
            "[%] File Downloaded !\n",
            "\n",
            "[%] Downloading Image #11 from https://www.seabookings.com/blog/wp-content/uploads/2019/07/dolphins_1.jpg?x17335\n",
            "[%] File Downloaded !\n",
            "\n",
            "[%] Downloading Image #12 from http://2.bp.blogspot.com/-ft_Jy0qC1nM/T483VrLyydI/AAAAAAAAARo/bSMFHk4va3k/s1600/d2.jpg\n",
            "[%] File Downloaded !\n",
            "\n",
            "[%] Downloading Image #13 from https://animals.net/wp-content/uploads/2020/02/Dolphin-1-650x425.jpg\n",
            "[%] File Downloaded !\n",
            "\n",
            "[%] Downloading Image #14 from https://i.natgeofe.com/k/5508021e-2814-42ef-87eb-8dccf24ea9ba/dolphin-communication-leaping.jpg?w=1200\n",
            "[%] File Downloaded !\n",
            "\n",
            "[%] Downloading Image #15 from https://cdn.24.co.za/files/Cms/General/d/10020/06ead853fc944922b9af418e2ecc6119.jpg\n",
            "[%] File Downloaded !\n",
            "\n",
            "[%] Downloading Image #16 from http://www.storytrender.com/wp-content/uploads/2018/10/2_CATERS_DIRTY_DANCING_DOLPHINS_03-1024x683.jpg\n",
            "[%] File Downloaded !\n",
            "\n",
            "[%] Downloading Image #17 from https://upload.wikimedia.org/wikipedia/commons/thumb/c/cc/Dolphins_at_Loro_Parque_04-crop.JPG/1200px-Dolphins_at_Loro_Parque_04-crop.JPG\n",
            "[%] File Downloaded !\n",
            "\n",
            "[%] Downloading Image #18 from https://jeevoka.com/story-images/130-d81bc912-36ae-4510-8e1d-1e62191d0830.jpg\n",
            "[%] File Downloaded !\n",
            "\n",
            "[%] Downloading Image #19 from https://tsoura.com/wp-content/uploads/2019/04/1152/mit-delfinen-schwimmen-bild.jpg\n",
            "[%] File Downloaded !\n",
            "\n",
            "[%] Downloading Image #20 from https://media.sandiegoreader.com/img/photos/2015/04/03/UNEXSO_lucaya_dolphins_t670.JPG?b3f6a5d7692ccc373d56e40cf708e3fa67d9af9d\n",
            "[%] File Downloaded !\n",
            "\n",
            "[%] Downloading Image #21 from http://1.bp.blogspot.com/-MrB3jCBAVl8/UwJSEbYdkVI/AAAAAAAAGqo/xgac7tmTNts/w1200-h630-p-k-no-nu/dolphin.jpg\n",
            "[%] File Downloaded !\n",
            "\n",
            "[%] Downloading Image #22 from https://www.grunge.com/img/gallery/false-facts-about-dolphins-you-always-thought-were-true/dolphins-are-the-only-other-species-that-has-sex-for-pleasure-1500661774.jpg\n",
            "[%] File Downloaded !\n",
            "\n",
            "[%] Downloading Image #23 from https://qph.fs.quoracdn.net/main-qimg-8e929fa0a504617a893c373b04ec913d\n",
            "[%] File Downloaded !\n",
            "\n",
            "[%] Downloading Image #24 from http://www.guy-sports.com/fun_pictures/dolphins_3.jpg\n",
            "[%] File Downloaded !\n",
            "\n",
            "[%] Downloading Image #25 from https://wildlifecruises.co.nz/wp-content/uploads/French-Toast-7Months.jpg\n",
            "[%] File Downloaded !\n",
            "\n",
            "[%] Downloading Image #26 from https://livinglifetotheblonde.com/wp-content/uploads/2020/04/GOPR0024-2-1300x975.jpg\n",
            "[%] File Downloaded !\n",
            "\n",
            "[%] Downloading Image #27 from https://www.triptemptation.com/media/5552f0b9-73a4-4e7c-95cd-b87555779d12/VXsnAQ/Blog/Alina/Dolphin-park-Dominicana/dolphins-dominican-republic.jpg\n",
            "[%] File Downloaded !\n",
            "\n",
            "[%] Downloading Image #28 from https://i.pinimg.com/originals/af/7b/ca/af7bca669e36dbfa0433f2ef954dc5b4.jpg\n",
            "[%] File Downloaded !\n",
            "\n",
            "[%] Downloading Image #29 from https://goodlucksymbols.com/wp-content/uploads/2016/12/Dolphins-symbolism.jpg\n",
            "[%] File Downloaded !\n",
            "\n",
            "[%] Downloading Image #30 from http://2.bp.blogspot.com/-iQxzODMVuvM/TVgPNh4ZVWI/AAAAAAAAAqs/Q0LXrTnpMLQ/s1600/dolphins-oil-spill.jpg\n",
            "[%] File Downloaded !\n",
            "\n",
            "\n",
            "\n",
            "[%] Done. Downloaded 30 images.\n",
            "===============================================\n",
            "\n",
            "Please show your support here\n",
            "https://www.buymeacoffee.com/gurugaurav\n",
            "\n",
            "===============================================\n",
            "\n"
          ],
          "name": "stdout"
        }
      ]
    },
    {
      "cell_type": "code",
      "metadata": {
        "colab": {
          "base_uri": "https://localhost:8080/"
        },
        "id": "2BOqGeifp6Aj",
        "outputId": "84bb5273-0af4-4449-8149-c4e9dde5493b"
      },
      "source": [
        "downloader.download(\"zebra\",limit=30,output_dir='images',adult_filter_off=True)"
      ],
      "execution_count": 4,
      "outputs": [
        {
          "output_type": "stream",
          "text": [
            "[%] Downloading Images to /content/images/zebra\n",
            "\n",
            "\n",
            "[!!]Indexing page: 1\n",
            "\n",
            "[%] Indexed 30 Images on Page 1.\n",
            "\n",
            "===============================================\n",
            "\n",
            "[%] Downloading Image #1 from http://1.bp.blogspot.com/-aOxDnC3RSrI/TaLU0qlpcFI/AAAAAAAACNU/pisguSiYW7k/w1200-h630-p-k-no-nu/zebra.jpg\n",
            "[%] File Downloaded !\n",
            "\n",
            "[%] Downloading Image #2 from http://1.bp.blogspot.com/-sXjtE_uZfJs/TmG5NqgM6aI/AAAAAAAACcA/U0D0lNXUTy4/s1600/true-wildlife-mountain+zebra-3.jpg\n",
            "[%] File Downloaded !\n",
            "\n",
            "[%] Downloading Image #3 from https://cdn.britannica.com/85/219885-050-92BF3722/two-zebras-Serengeti-National-Park-Tanzania.jpg\n",
            "[%] File Downloaded !\n",
            "\n",
            "[%] Downloading Image #4 from https://1.bp.blogspot.com/-r-FfmCUekis/T_bG2GMPgpI/AAAAAAAAAPM/EMsctauoYJA/s1600/Grevy%2527s_Zebra-3.jpg\n",
            "[%] File Downloaded !\n",
            "\n",
            "[%] Downloading Image #5 from http://4.bp.blogspot.com/-m-lXEo9VWnw/T_T2-NhNWkI/AAAAAAAAALQ/_xUW35Ylp9Q/s1600/mountain-zebra.jpg\n",
            "[%] File Downloaded !\n",
            "\n",
            "[%] Downloading Image #6 from https://1.bp.blogspot.com/-lK-e9YjTEBY/T_T23OyhnBI/AAAAAAAAAK4/vSwtpaM_1o8/s1600/mountain-zebra-1.jpg\n",
            "[%] File Downloaded !\n",
            "\n",
            "[%] Downloading Image #7 from http://1.bp.blogspot.com/-VRG1s7XC0bo/TmG5Szjh_VI/AAAAAAAACcI/lcpgxejhEKU/s1600/true-wildlife-mountain+zebra-5.jpg\n",
            "[%] File Downloaded !\n",
            "\n",
            "[%] Downloading Image #8 from http://www.travelswithgannonandwyatt.com/wp-content/uploads/2013/07/IMG_3615_web_zebra.jpg\n",
            "[%] File Downloaded !\n",
            "\n",
            "[%] Downloading Image #9 from https://qph.fs.quoracdn.net/main-qimg-9168728bebf2dc4e65ce87130fe1fd3f-c\n",
            "[%] File Downloaded !\n",
            "\n",
            "[%] Downloading Image #10 from https://milkgenomics.org/wp-content/uploads/2017/10/bigstock-Zebra-And-Foal-97504841.jpg\n",
            "[%] File Downloaded !\n",
            "\n",
            "[%] Downloading Image #11 from https://3.bp.blogspot.com/-1Z3O0iuz1qo/UYhcNk93jII/AAAAAAAAvFM/p2u0CxjVnWQ/s1600/zebra+animal+wallpaper+(6).jpg\n",
            "[%] File Downloaded !\n",
            "\n",
            "[%] Downloading Image #12 from http://elelur.com/data_images/mammals/grevys-zebra/grevys-zebra-03.jpg\n",
            "[%] File Downloaded !\n",
            "\n",
            "[%] Downloading Image #13 from http://2.bp.blogspot.com/-OYiszt8rF-M/TmG5L8eoNDI/AAAAAAAACb8/kSW3OK8A3hU/s400/true-wildlife-mountain+zebra-2.jpg\n",
            "[%] File Downloaded !\n",
            "\n",
            "[%] Downloading Image #14 from https://news.wttw.com/sites/default/files/field/image/ZebraChristoperBijalbaLPZooCrop.jpg\n",
            "[%] File Downloaded !\n",
            "\n",
            "[%] Downloading Image #15 from https://2.bp.blogspot.com/-jKgPXgZg5Ig/TmG5KSbiiZI/AAAAAAAACb4/Nx2m7HutR7I/s1600/true-wildlife-mountain+zebra-1.jpg\n",
            "[%] File Downloaded !\n",
            "\n",
            "[%] Downloading Image #16 from http://1.bp.blogspot.com/-WmskgvX8Do4/T6NqZOmaljI/AAAAAAAABHM/5w-iHl-jvN0/s1600/babies+of+beautiful+dangerous+animals+zebra---Burchells-Zebra+animals+of+kenya+uganda+tanzania+south+africa+animals.jpg\n",
            "[%] File Downloaded !\n",
            "\n",
            "[%] Downloading Image #17 from http://78.media.tumblr.com/b8e278d8f9dfe60b548c019fb7035c8b/tumblr_mj9gqxhMzR1rw5970o5_1280.jpg\n",
            "[Error]Invalid image, not saving http://78.media.tumblr.com/b8e278d8f9dfe60b548c019fb7035c8b/tumblr_mj9gqxhMzR1rw5970o5_1280.jpg\n",
            "\n",
            "[!] Issue getting: http://78.media.tumblr.com/b8e278d8f9dfe60b548c019fb7035c8b/tumblr_mj9gqxhMzR1rw5970o5_1280.jpg\n",
            "[!] Error:: Invalid image, not saving http://78.media.tumblr.com/b8e278d8f9dfe60b548c019fb7035c8b/tumblr_mj9gqxhMzR1rw5970o5_1280.jpg\n",
            "\n",
            "[%] Downloading Image #17 from http://3.bp.blogspot.com/-e9fh1IvqxGU/TlSiTMSXGNI/AAAAAAAACbg/l1Rh-29wJgw/w1200-h630-p-k-no-nu/true-wildlife-grevy+zebra-1.jpg\n",
            "[%] File Downloaded !\n",
            "\n",
            "[%] Downloading Image #18 from https://3.bp.blogspot.com/-tN-BvwdPeVw/UYhabll__WI/AAAAAAAAvD4/JPVrw86hdRI/s1600/zebra+animal+wallpaper+(11).jpg\n",
            "[%] File Downloaded !\n",
            "\n",
            "[%] Downloading Image #19 from http://1.bp.blogspot.com/-N62c5KNmu-8/T_T25OWsKDI/AAAAAAAAALA/tT6YN63PKVU/s1600/mountain-zebra-2.jpg\n",
            "[%] File Downloaded !\n",
            "\n",
            "[%] Downloading Image #20 from http://2.bp.blogspot.com/-zhM7gb7fO3Q/T_T26_H2OHI/AAAAAAAAALI/0bvL7nxk03I/s1600/mountain-zebra-4.JPG\n",
            "[%] File Downloaded !\n",
            "\n",
            "[%] Downloading Image #21 from https://1.bp.blogspot.com/-DkVHlNaLwXg/TaLdeU0eghI/AAAAAAAACOc/A3-ANFxqJig/s1600/ZebraHorseEPA_600x517.jpg\n",
            "[%] File Downloaded !\n",
            "\n",
            "[%] Downloading Image #22 from http://2.bp.blogspot.com/-v_u9HoL3JCc/TmG5QOfDvII/AAAAAAAACcE/SISRtlzc3cA/s1600/true-wildlife-mountain+zebra-4.jpg\n",
            "[%] File Downloaded !\n",
            "\n",
            "[%] Downloading Image #23 from https://www.zambiatourism.com/media/zebras_burchell.jpg\n",
            "[%] File Downloaded !\n",
            "\n",
            "[%] Downloading Image #24 from https://1.bp.blogspot.com/-NNda22GVqrg/TaLU3XeFMbI/AAAAAAAACNc/4msb8TLToDs/s320/zebra+%25282%2529.jpg\n",
            "[%] File Downloaded !\n",
            "\n",
            "[%] Downloading Image #25 from http://media.londolozi.com/wp-content/uploads/2017/06/10201902/Zebra-stallion-fight-JT-7.jpg\n",
            "[%] File Downloaded !\n",
            "\n",
            "[%] Downloading Image #26 from http://1.bp.blogspot.com/-wFiBlWnL-uY/T_6nSIsIk1I/AAAAAAAABwg/MOAVEd0DJRI/s1600/zebra+pics+(21).JPG\n",
            "[%] File Downloaded !\n",
            "\n",
            "[%] Downloading Image #27 from https://www.snopes.com/tachyon/2020/02/GettyImages-1169746914-e1582921462657.jpg?fit=1200,800\n",
            "[%] File Downloaded !\n",
            "\n",
            "[%] Downloading Image #28 from https://africageographic.com/wp-content/uploads/2020/06/1-Andrea-Marzorati-abundistic-zebra-Etosha.jpg\n",
            "[%] File Downloaded !\n",
            "\n",
            "[%] Downloading Image #29 from http://4.bp.blogspot.com/-ANdDh1t-a5w/U3RcqjvHrEI/AAAAAAAAHNk/0fF-6P_nZDA/s1600/Grevys-zebra-photo.jpg\n",
            "[%] File Downloaded !\n",
            "\n",
            "\n",
            "\n",
            "[!!]Indexing page: 2\n",
            "\n",
            "[%] Indexed 35 Images on Page 2.\n",
            "\n",
            "===============================================\n",
            "\n",
            "[%] Downloading Image #30 from http://1.bp.blogspot.com/-aOxDnC3RSrI/TaLU0qlpcFI/AAAAAAAACNU/pisguSiYW7k/w1200-h630-p-k-no-nu/zebra.jpg\n",
            "[%] File Downloaded !\n",
            "\n",
            "\n",
            "\n",
            "[%] Done. Downloaded 30 images.\n",
            "===============================================\n",
            "\n",
            "Please show your support here\n",
            "https://www.buymeacoffee.com/gurugaurav\n",
            "\n",
            "===============================================\n",
            "\n"
          ],
          "name": "stdout"
        }
      ]
    },
    {
      "cell_type": "code",
      "metadata": {
        "colab": {
          "base_uri": "https://localhost:8080/"
        },
        "id": "ctKGIyRsrq_d",
        "outputId": "23b053b0-18ae-4824-dc0c-cc26ce5b619f"
      },
      "source": [
        "downloader.download(\"parrots\",limit=30,output_dir='images',adult_filter_off=True)"
      ],
      "execution_count": 15,
      "outputs": [
        {
          "output_type": "stream",
          "text": [
            "[%] Downloading Images to /content/images/parrots\n",
            "\n",
            "\n",
            "[!!]Indexing page: 1\n",
            "\n",
            "[%] Indexed 30 Images on Page 1.\n",
            "\n",
            "===============================================\n",
            "\n",
            "[%] Downloading Image #1 from http://animalia-life.com/data_images/parrot/parrot1.jpg\n",
            "[%] File Downloaded !\n",
            "\n",
            "[%] Downloading Image #2 from https://greatlakesledger.com/wp-content/uploads/2018/07/Alberta-Neuroscientists-Find-Out-Why-Parrots-Are-Not-so-Bird-Brained.jpg\n",
            "[%] File Downloaded !\n",
            "\n",
            "[%] Downloading Image #3 from http://4.bp.blogspot.com/-KXtlhW9wja8/UI40mr7HzCI/AAAAAAAADQE/JeSRHZ8r3h8/s1600/Parrot-1.jpg\n",
            "[%] File Downloaded !\n",
            "\n",
            "[%] Downloading Image #4 from https://media.buzzle.com/media/images-en/photos/birds/parrot/1200-14085076-eclectus-parrot.jpg\n",
            "[%] File Downloaded !\n",
            "\n",
            "[%] Downloading Image #5 from https://pixfeeds.com/images/birds/parrots/1280-1200-480443304-colorful-parrots.jpg\n",
            "[%] File Downloaded !\n",
            "\n",
            "[%] Downloading Image #6 from https://blog.parrotessentials.co.uk/wp-content/uploads/2018/03/Eclectus-Parrot-Male-_-Eric-Kilby-_-Flickr.jpg\n",
            "[%] File Downloaded !\n",
            "\n",
            "[%] Downloading Image #7 from https://i2.wp.com/www.parrotsjoy.com/wp-content/uploads/2017/03/blauaras-406772_1280.jpg?fit=1280%2C718\n",
            "[%] File Downloaded !\n",
            "\n",
            "[%] Downloading Image #8 from https://pixfeeds.com/images/birds/parrots/1280-1200-485717506-red-neck-parrots.jpg\n",
            "[%] File Downloaded !\n",
            "\n",
            "[%] Downloading Image #9 from http://cdn.differencebetween.net/wp-content/uploads/2018/10/Difference-Between-Parrot-and-Macaw-.jpg\n",
            "[%] File Downloaded !\n",
            "\n",
            "[%] Downloading Image #10 from https://i.ytimg.com/vi/EAnA1_wR870/maxresdefault.jpg\n",
            "[%] File Downloaded !\n",
            "\n",
            "[%] Downloading Image #11 from https://www.pafoszoo.com/wp-content/uploads/2018/12/thick-billed-parrot.jpg\n",
            "[%] File Downloaded !\n",
            "\n",
            "[%] Downloading Image #12 from https://www.trbimg.com/img-5c6dec1a/turbine/sd-cm-plob-peninsula-parrots-20190220\n",
            "[%] File Downloaded !\n",
            "\n",
            "[%] Downloading Image #13 from https://www.pafoszoo.com/wp-content/uploads/2013/01/HAWK-HEADED-PARROT.jpg\n",
            "[%] File Downloaded !\n",
            "\n",
            "[%] Downloading Image #14 from http://4.bp.blogspot.com/-AqQP90pV6YI/UTqX9Y0hzII/AAAAAAAADXQ/i5loBQMt4R8/s1600/Amazon-Red-Lored-Parrot-parrots-10394373-1248-1068.jpg\n",
            "[%] File Downloaded !\n",
            "\n",
            "[%] Downloading Image #15 from http://www.singing-wings-aviary.com/wp-content/uploads/2017/11/Parrot.jpg\n",
            "[%] File Downloaded !\n",
            "\n",
            "[%] Downloading Image #16 from http://4.bp.blogspot.com/-59-yP12uPbg/UTqX12StwMI/AAAAAAAADWw/rVbs1JkvprU/s1600/1339812364-5555555555.jpg\n",
            "[%] File Downloaded !\n",
            "\n",
            "[%] Downloading Image #17 from https://allnaturalpetcare.com/blog/wp-content/uploads/2015/12/Parrots-Natural_Care_Winter.jpg\n",
            "[%] File Downloaded !\n",
            "\n",
            "[%] Downloading Image #18 from http://4.bp.blogspot.com/-H4IjH0w6ELM/UfJ_NUfgrjI/AAAAAAAAAvA/de3gFW7ok30/s1600/parrot pictures+7.jpg\n",
            "[!] Issue getting: http://4.bp.blogspot.com/-H4IjH0w6ELM/UfJ_NUfgrjI/AAAAAAAAAvA/de3gFW7ok30/s1600/parrot pictures+7.jpg\n",
            "[!] Error:: 'ascii' codec can't encode character '\\xa0' in position 66: ordinal not in range(128)\n",
            "[%] Downloading Image #18 from https://pixfeeds.com/images/birds/parrots/1280-1200-516077066-green-parrot-and-macaw.jpg\n",
            "[%] File Downloaded !\n",
            "\n",
            "[%] Downloading Image #19 from https://pixfeeds.com/images/birds/parrots/1280-1200-516953202-green-and-yellow-parrot.jpg\n",
            "[%] File Downloaded !\n",
            "\n",
            "[%] Downloading Image #20 from https://cdn2.momjunction.com/wp-content/uploads/2020/09/True-parrots-624x416.jpg\n",
            "[%] File Downloaded !\n",
            "\n",
            "[%] Downloading Image #21 from https://i.pinimg.com/originals/8a/a9/c8/8aa9c8c002a0c9e3740f300e63daeeee.jpg\n",
            "[%] File Downloaded !\n",
            "\n",
            "[%] Downloading Image #22 from http://3.bp.blogspot.com/_5mmtDKXabEY/SwjmOyWJiXI/AAAAAAAAAHk/O-FsZLpgBrA/s1600/Red-Parrots-2.jpg\n",
            "[%] File Downloaded !\n",
            "\n",
            "[%] Downloading Image #23 from https://i.pinimg.com/originals/c0/2f/54/c02f543689cc6c0a736ee5f5cca925b0.jpg\n",
            "[%] File Downloaded !\n",
            "\n",
            "[%] Downloading Image #24 from https://seaworld.org/-/media/seaworld-dotorg/images/animal-bytes/banners-1900x700-or-1900x500/birds/eclectus_parrot_1900x700.ashx?version=1_202001242023\n",
            "[%] File Downloaded !\n",
            "\n",
            "[%] Downloading Image #25 from https://pixfeeds.com/images/birds/parrots/1280-1200-485592498-parrot-on-woman-hand.jpg\n",
            "[%] File Downloaded !\n",
            "\n",
            "[%] Downloading Image #26 from https://cuteparrots.com/media/2020/02/Amazon_parrots850.jpg\n",
            "[!] Issue getting: https://cuteparrots.com/media/2020/02/Amazon_parrots850.jpg\n",
            "[!] Error:: HTTP Error 404: Not Found\n",
            "[%] Downloading Image #26 from https://i.pinimg.com/originals/32/cd/45/32cd453bec167d8ee7e1f5f7b1192c98.jpg\n",
            "[%] File Downloaded !\n",
            "\n",
            "[%] Downloading Image #27 from https://animalia-life.com/data_images/parrot/parrot9.jpg\n",
            "[%] File Downloaded !\n",
            "\n",
            "[%] Downloading Image #28 from https://cdn.omlet.co.uk/images/originals/lilac-crowned-amazon.jpg\n",
            "[Error]Invalid image, not saving https://cdn.omlet.co.uk/images/originals/lilac-crowned-amazon.jpg\n",
            "\n",
            "[!] Issue getting: https://cdn.omlet.co.uk/images/originals/lilac-crowned-amazon.jpg\n",
            "[!] Error:: Invalid image, not saving https://cdn.omlet.co.uk/images/originals/lilac-crowned-amazon.jpg\n",
            "\n",
            "\n",
            "\n",
            "[!!]Indexing page: 2\n",
            "\n",
            "[%] Indexed 35 Images on Page 2.\n",
            "\n",
            "===============================================\n",
            "\n",
            "[%] Downloading Image #28 from https://media.buzzle.com/media/images-en/photos/birds/parrot/1200-14085076-eclectus-parrot.jpg\n",
            "[%] File Downloaded !\n",
            "\n",
            "[%] Downloading Image #29 from http://animalia-life.com/data_images/parrot/parrot1.jpg\n",
            "[%] File Downloaded !\n",
            "\n",
            "[%] Downloading Image #30 from https://pixfeeds.com/images/birds/parrots/1280-1200-480443304-colorful-parrots.jpg\n",
            "[%] File Downloaded !\n",
            "\n",
            "\n",
            "\n",
            "[%] Done. Downloaded 30 images.\n",
            "===============================================\n",
            "\n",
            "Please show your support here\n",
            "https://www.buymeacoffee.com/gurugaurav\n",
            "\n",
            "===============================================\n",
            "\n"
          ],
          "name": "stdout"
        }
      ]
    },
    {
      "cell_type": "code",
      "metadata": {
        "id": "3vjNBuKRsW-v"
      },
      "source": [
        "# Data Preprocessing--->\n",
        "\n",
        "import os         #to manage switching from one to other folder\n",
        "import matplotlib.pyplot as plt  #for images\n",
        "import numpy as np #for numerical \n",
        "from skimage.io import imread #to read images\n",
        "from skimage.transform import resize\n",
        "\n",
        "target= [] #output emplty list\n",
        "images= [] #data 2D\n",
        "flat_data = [] #will be passed to create ML model\n",
        "\n",
        "#how to examine or take up data\n",
        "\n",
        "DATADIR = '/content/images' #path from where images have to be considered\n",
        "CATEGORIES = ['parrots', 'dolphins', 'zebra']\n",
        "\n",
        "for category in CATEGORIES:\n",
        "  class_num = CATEGORIES.index(category) #label encoding the values\n",
        "  path = os.path.join(DATADIR,category) #Create path to use all the images\n",
        "  for img in os.listdir(path):\n",
        "    img_array= imread(os.path.join(path,img))\n",
        "    #print(img_array)\n",
        "    #plt.imshow(img_array)\n",
        "    img_resized = resize(img_array,(150,150,3)) #resizing, normalizes the value from 0 to 1\n",
        "    flat_data.append(img_resized.flatten()) #flattening\n",
        "    images.append(img_resized)\n",
        "    target.append(class_num)\n",
        "\n",
        "flat_data = np.array(flat_data)\n",
        "target = np.array(target)\n",
        "images = np.array(images)\n",
        "\n",
        "\n",
        "\n",
        "\n",
        "\n",
        "\n"
      ],
      "execution_count": 6,
      "outputs": []
    },
    {
      "cell_type": "code",
      "metadata": {
        "colab": {
          "base_uri": "https://localhost:8080/",
          "height": 282
        },
        "id": "JMH63IpvReOy",
        "outputId": "659b5279-b7fd-47da-d8c2-ba7735a7d31d"
      },
      "source": [
        "unique,count= np.unique(target,return_counts=True)\n",
        "plt.bar(CATEGORIES,count)"
      ],
      "execution_count": 19,
      "outputs": [
        {
          "output_type": "execute_result",
          "data": {
            "text/plain": [
              "<BarContainer object of 3 artists>"
            ]
          },
          "metadata": {
            "tags": []
          },
          "execution_count": 19
        },
        {
          "output_type": "display_data",
          "data": {
            "image/png": "[encoded data removed]",
            "text/plain": [
              "<Figure size 432x288 with 1 Axes>"
            ]
          },
          "metadata": {
            "tags": [],
            "needs_background": "light"
          }
        }
      ]
    },
    {
      "cell_type": "code",
      "metadata": {
        "id": "liDCDjn2T1tz"
      },
      "source": [
        "#Splitting data into training & testing\n",
        "from sklearn.model_selection import  train_test_split\n",
        "x_train,x_test,y_train,y_test = train_test_split(flat_data,target,test_size=0.3,random_state=109)"
      ],
      "execution_count": 8,
      "outputs": []
    },
    {
      "cell_type": "code",
      "metadata": {
        "id": "FdhNI24tVFHz",
        "colab": {
          "base_uri": "https://localhost:8080/"
        },
        "outputId": "aae0d680-6776-4b9d-8812-602ee4fb7fab"
      },
      "source": [
        "#Classification Algorithm- SVM\n",
        "from sklearn.model_selection import GridSearchCV\n",
        "#from sklearn.model_selection import train_test_split\n",
        "from sklearn import svm\n",
        "#from sklearn.svm import SVC\n",
        "param_grid = [\n",
        "              { 'C' :[1,10,100,1000],'kernel' :['linear']},\n",
        "              { 'C' :[1,10,100,1000],'gamma' :[0.001,0.0001],'kernel' :['rbf']}\n",
        "             ]\n",
        "\n",
        "svc = svm.SVC(probability=True)\n",
        "clf = GridSearchCV(svc,param_grid)\n",
        "clf.fit(x_train,y_train)\n",
        "\n"
      ],
      "execution_count": 9,
      "outputs": [
        {
          "output_type": "execute_result",
          "data": {
            "text/plain": [
              "GridSearchCV(cv=None, error_score=nan,\n",
              "             estimator=SVC(C=1.0, break_ties=False, cache_size=200,\n",
              "                           class_weight=None, coef0=0.0,\n",
              "                           decision_function_shape='ovr', degree=3,\n",
              "                           gamma='scale', kernel='rbf', max_iter=-1,\n",
              "                           probability=True, random_state=None, shrinking=True,\n",
              "                           tol=0.001, verbose=False),\n",
              "             iid='deprecated', n_jobs=None,\n",
              "             param_grid=[{'C': [1, 10, 100, 1000], 'kernel': ['linear']},\n",
              "                         {'C': [1, 10, 100, 1000], 'gamma': [0.001, 0.0001],\n",
              "                          'kernel': ['rbf']}],\n",
              "             pre_dispatch='2*n_jobs', refit=True, return_train_score=False,\n",
              "             scoring=None, verbose=0)"
            ]
          },
          "metadata": {
            "tags": []
          },
          "execution_count": 9
        }
      ]
    },
    {
      "cell_type": "code",
      "metadata": {
        "colab": {
          "base_uri": "https://localhost:8080/"
        },
        "id": "Tl9hK5eeLZeW",
        "outputId": "5713eb23-f82d-4782-f0cb-465383c7d972"
      },
      "source": [
        "y_pred = clf.predict(x_test)\n",
        "y_pred\n",
        "\n",
        "from sklearn.metrics import accuracy_score,confusion_matrix\n",
        "\n",
        "accuracy_score(y_pred,y_test)"
      ],
      "execution_count": 10,
      "outputs": [
        {
          "output_type": "execute_result",
          "data": {
            "text/plain": [
              "0.8620689655172413"
            ]
          },
          "metadata": {
            "tags": []
          },
          "execution_count": 10
        }
      ]
    },
    {
      "cell_type": "code",
      "metadata": {
        "colab": {
          "base_uri": "https://localhost:8080/"
        },
        "id": "OIWWqi8FLxpJ",
        "outputId": "c708687b-5608-4b91-ce8c-701104d20929"
      },
      "source": [
        "confusion_matrix(y_pred,y_test)\n"
      ],
      "execution_count": 11,
      "outputs": [
        {
          "output_type": "execute_result",
          "data": {
            "text/plain": [
              "array([[ 6,  0,  3],\n",
              "       [ 0, 10,  0],\n",
              "       [ 1,  0,  9]])"
            ]
          },
          "metadata": {
            "tags": []
          },
          "execution_count": 11
        }
      ]
    },
    {
      "cell_type": "code",
      "metadata": {
        "id": "w3VSl-86NLes"
      },
      "source": [
        "#Save the model using Pickle library\n",
        "import pickle\n",
        "pickle.dump(clf,open('img_model.p','wb'))"
      ],
      "execution_count": 12,
      "outputs": []
    },
    {
      "cell_type": "code",
      "metadata": {
        "id": "hg9762MBkjdv"
      },
      "source": [
        "model = pickle.load(open('img_model.p','rb'))"
      ],
      "execution_count": 13,
      "outputs": []
    },
    {
      "cell_type": "code",
      "metadata": {
        "colab": {
          "base_uri": "https://localhost:8080/",
          "height": 319
        },
        "id": "vlhslGAiWdNH",
        "outputId": "5bb06eea-76cc-4551-a38b-2a152e3159c5"
      },
      "source": [
        "#testing new image\n",
        "flat_data= []\n",
        "url = input('Enter your URL')\n",
        "img = imread(url)\n",
        "img_resized= resize(img,(150,150,3))\n",
        "flat_data.append(img_resized.flatten())\n",
        "flat_data = np.array(flat_data)\n",
        "print(img.shape)\n",
        "plt.imshow(img_resized)\n",
        "y_out = model.predict(flat_data)\n",
        "y_out = CATEGORIES[y_out[0]]\n",
        "print(f'Predicted Output:{y_out}')\n"
      ],
      "execution_count": 18,
      "outputs": [
        {
          "output_type": "stream",
          "text": [
            "Enter your URLhttps://images.hindustantimes.com/rf/image_size_630x354/HT/p2/2020/11/04/Pictures/_f6c2c69c-1eb4-11eb-99e1-1f704b24b706.jpg\n",
            "(356, 630, 3)\n",
            "Predicted Output:parrots\n"
          ],
          "name": "stdout"
        },
        {
          "output_type": "display_data",
          "data": {
            "image/png": "[encoded data removed]",
            "text/plain": [
              "<Figure size 432x288 with 1 Axes>"
            ]
          },
          "metadata": {
            "tags": [],
            "needs_background": "light"
          }
        }
      ]
    }
  ]
}